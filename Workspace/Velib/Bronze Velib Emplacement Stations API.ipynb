{
 "cells": [
  {
   "cell_type": "code",
   "execution_count": 1,
   "id": "9069293f-3a31-47b2-ad5a-e723c82b9700",
   "metadata": {
    "tags": []
   },
   "outputs": [],
   "source": [
    "import requests\n",
    "import json\n",
    "from pyspark.sql.functions import from_json, col, regexp_replace\n",
    "from pyspark.sql.types import StructType, StructField, StringType, IntegerType, DoubleType, MapType"
   ]
  },
  {
   "cell_type": "code",
   "execution_count": 2,
   "id": "0cfb2800-e0d8-41ba-b15d-73a158ce7833",
   "metadata": {
    "tags": []
   },
   "outputs": [],
   "source": [
    "url =\"https://opendata.paris.fr/api/explore/v2.1/catalog/datasets/velib-emplacement-des-stations/records?limit=100\"\n",
    "BUCKET_NAME = \"paris-opendata-gcp-data\"\n",
    "BQ_BRONZE_TABLE = \"paris-opendata-gcp.bronze.velib_emplacement_stations\"\n",
    "TEMP_GCS_BUCKET = f\"{BUCKET_NAME}/temporary/notebooks/\""
   ]
  },
  {
   "cell_type": "code",
   "execution_count": 3,
   "id": "1f93875b-9474-45bd-be8a-4760bcda67e8",
   "metadata": {},
   "outputs": [],
   "source": [
    "## schema de retour d'API\n",
    "\n",
    "schema = StructType([\n",
    "    StructField(\"stationcode\", StringType(), True),\n",
    "    StructField(\"name\", StringType(), True),\n",
    "    StructField(\"capacity\", IntegerType(), True),\n",
    "    StructField(\"coordonnees_geo\", StructType([\n",
    "        StructField(\"lon\", DoubleType(), True),\n",
    "        StructField(\"lat\", DoubleType(), True)\n",
    "    ]), True),\n",
    "    StructField(\"station_opening_hours\", StringType(), True)  # ou autre type si besoin\n",
    "])"
   ]
  },
  {
   "cell_type": "code",
   "execution_count": 4,
   "id": "3b69ac63-a951-449e-b44b-b22474e9e9e9",
   "metadata": {
    "tags": []
   },
   "outputs": [
    {
     "name": "stderr",
     "output_type": "stream",
     "text": [
      "                                                                                \r"
     ]
    }
   ],
   "source": [
    "\n",
    "\n",
    "response =  requests.get(url)\n",
    "\n",
    "data = response.json()\n",
    "\n",
    "# 3. Extraire la liste des enregistrements (champ \"results\")\n",
    "records = data[\"results\"]\n",
    "\n",
    "# 4. Convertir en RDD puis DataFrame\n",
    "rdd = spark.sparkContext.parallelize(records)\n",
    "df = spark.read.json(rdd)\n",
    "\n",
    "# 5. Afficher les premières lignes\n",
    "#df.show(truncate=False)\n",
    "#df.printSchema()"
   ]
  },
  {
   "cell_type": "code",
   "execution_count": 5,
   "id": "8f2407f7-470b-423b-bcc2-7808a8eb3010",
   "metadata": {
    "tags": []
   },
   "outputs": [],
   "source": [
    "# 1. Remplacer ' par \"\n",
    "# 2. Remplacer None par null\n",
    "df_fixed = df.withColumn(\n",
    "    \"_corrupt_record_json\",\n",
    "    regexp_replace(\n",
    "        regexp_replace(col(\"_corrupt_record\"), \"'\", \"\\\"\"),\n",
    "        \"None\",\n",
    "        \"null\"\n",
    "    )\n",
    ")\n",
    "\n",
    "# 3. Parser la chaîne JSON corrigée\n",
    "df_parsed_json = df_fixed.withColumn(\"parsed\", from_json(col(\"_corrupt_record_json\"), schema))\n"
   ]
  },
  {
   "cell_type": "code",
   "execution_count": 6,
   "id": "95792111-7122-4714-a640-0ab6e01687b5",
   "metadata": {},
   "outputs": [],
   "source": [
    "df_final = df_parsed_json.select(\n",
    "    col(\"parsed.stationcode\").alias(\"stationcode\"),\n",
    "    col(\"parsed.name\").alias(\"name\"),\n",
    "    col(\"parsed.capacity\").alias(\"capacity\"),\n",
    "    col(\"parsed.coordonnees_geo.lon\").alias(\"lon\"),\n",
    "    col(\"parsed.coordonnees_geo.lat\").alias(\"lat\"),\n",
    "    col(\"parsed.station_opening_hours\").alias(\"station_opening_hours\")\n",
    ")"
   ]
  },
  {
   "cell_type": "markdown",
   "id": "095fc38f-bb50-48ef-9e12-89d0594b2d9c",
   "metadata": {},
   "source": [
    "### *Chargement de la donneés dans biquery Silver*"
   ]
  },
  {
   "cell_type": "code",
   "execution_count": 7,
   "id": "9f624d6e-80f2-4478-a3e2-42686f7972af",
   "metadata": {
    "tags": []
   },
   "outputs": [
    {
     "name": "stderr",
     "output_type": "stream",
     "text": [
      "                                                                                \r"
     ]
    }
   ],
   "source": [
    "df_final.write \\\n",
    "    .format(\"bigquery\") \\\n",
    "    .mode(\"overwrite\") \\\n",
    "    .option(\"table\", BQ_BRONZE_TABLE) \\\n",
    "    .option(\"temporaryGcsBucket\", TEMP_GCS_BUCKET) \\\n",
    "    .save()"
   ]
  }
 ],
 "metadata": {
  "kernelspec": {
   "display_name": "PySpark",
   "language": "python",
   "name": "pyspark"
  },
  "language_info": {
   "codemirror_mode": {
    "name": "ipython",
    "version": 3
   },
   "file_extension": ".py",
   "mimetype": "text/x-python",
   "name": "python",
   "nbconvert_exporter": "python",
   "pygments_lexer": "ipython3",
   "version": "3.11.8"
  }
 },
 "nbformat": 4,
 "nbformat_minor": 5
}
