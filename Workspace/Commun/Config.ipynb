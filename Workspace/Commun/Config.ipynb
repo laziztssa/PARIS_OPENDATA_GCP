{
 "cells": [
  {
   "cell_type": "markdown",
   "id": "1565affe-c6c4-4b75-a338-0bd1e1e36cb1",
   "metadata": {
    "tags": []
   },
   "source": [
    "#### Fonction d'import des secret"
   ]
  },
  {
   "cell_type": "code",
   "execution_count": 20,
   "id": "5ee50b79-6860-43b6-a1f1-4edab8d718dd",
   "metadata": {
    "tags": []
   },
   "outputs": [],
   "source": [
    "def Reccuperation_des_Secret(secret_id, version_id= \"latest\"):\n",
    "    from google.cloud import secretmanager\n",
    "    import json\n",
    "    \n",
    "    # variables d'entrée\n",
    "    PROJECT_ID = \"350153339869\"\n",
    "\n",
    "    # Creer le secret Manager client \n",
    "    Client =  secretmanager.SecretManagerServiceClient()\n",
    "    \n",
    "    # nom du secret\n",
    "    Name = f\"projects/{PROJECT_ID}/secrets/{secret_id}/versions/{version_id}\"\n",
    "    \n",
    "    \n",
    "    #reccuperation des secret comme chaine de caractere\n",
    "    \n",
    "    Response = Client.access_secret_version(name=Name)\n",
    "    \n",
    "    Response = Response.payload.data.decode('UTF-8')\n",
    "    \n",
    "    # Reccuperation des paramaetre sous format json\n",
    "    \n",
    "    params = json.loads(Response)\n",
    "    \n",
    "    return params\n",
    "    "
   ]
  }
 ],
 "metadata": {
  "kernelspec": {
   "display_name": "Python 3",
   "language": "python",
   "name": "python3"
  },
  "language_info": {
   "codemirror_mode": {
    "name": "ipython",
    "version": 3
   },
   "file_extension": ".py",
   "mimetype": "text/x-python",
   "name": "python",
   "nbconvert_exporter": "python",
   "pygments_lexer": "ipython3",
   "version": "3.11.8"
  }
 },
 "nbformat": 4,
 "nbformat_minor": 5
}
