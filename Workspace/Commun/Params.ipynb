{
 "cells": [
  {
   "cell_type": "code",
   "execution_count": 1,
   "id": "69ee3d6c-26e6-4b0e-8f70-fd2a95611787",
   "metadata": {
    "tags": []
   },
   "outputs": [],
   "source": [
    "import os\n",
    "os.chdir(\"/PARIS_OPENDATA_GCP/Workspace/Commun\")"
   ]
  },
  {
   "cell_type": "code",
   "execution_count": 2,
   "id": "b786f26b-2717-4a95-a42a-84c18270c121",
   "metadata": {
    "tags": []
   },
   "outputs": [],
   "source": [
    "%run Config.ipynb"
   ]
  },
  {
   "cell_type": "code",
   "execution_count": 3,
   "id": "e87cf77e-c1de-4b5c-9021-d0eca9819f2c",
   "metadata": {
    "tags": []
   },
   "outputs": [],
   "source": [
    "parametres = Reccuperation_des_Secret(\"env-parameters\")"
   ]
  }
 ],
 "metadata": {
  "kernelspec": {
   "display_name": "PySpark",
   "language": "python",
   "name": "pyspark"
  },
  "language_info": {
   "codemirror_mode": {
    "name": "ipython",
    "version": 3
   },
   "file_extension": ".py",
   "mimetype": "text/x-python",
   "name": "python",
   "nbconvert_exporter": "python",
   "pygments_lexer": "ipython3",
   "version": "3.11.8"
  }
 },
 "nbformat": 4,
 "nbformat_minor": 5
}
